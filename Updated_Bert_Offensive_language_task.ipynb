{
  "nbformat": 4,
  "nbformat_minor": 0,
  "metadata": {
    "colab": {
      "provenance": [],
      "gpuType": "T4"
    },
    "kernelspec": {
      "name": "python3",
      "display_name": "Python 3"
    },
    "language_info": {
      "name": "python"
    },
    "accelerator": "GPU"
  },
  "cells": [
    {
      "cell_type": "code",
      "execution_count": 1,
      "metadata": {
        "colab": {
          "base_uri": "https://localhost:8080/",
          "height": 204
        },
        "id": "4vQlukItpFiu",
        "outputId": "796895de-0482-490a-c294-775f79f0576d"
      },
      "outputs": [
        {
          "output_type": "display_data",
          "data": {
            "text/plain": [
              "<IPython.core.display.HTML object>"
            ],
            "text/html": [
              "\n",
              "     <input type=\"file\" id=\"files-679632aa-fa36-4f57-a147-b0f657f2938d\" name=\"files[]\" multiple disabled\n",
              "        style=\"border:none\" />\n",
              "     <output id=\"result-679632aa-fa36-4f57-a147-b0f657f2938d\">\n",
              "      Upload widget is only available when the cell has been executed in the\n",
              "      current browser session. Please rerun this cell to enable.\n",
              "      </output>\n",
              "      <script>// Copyright 2017 Google LLC\n",
              "//\n",
              "// Licensed under the Apache License, Version 2.0 (the \"License\");\n",
              "// you may not use this file except in compliance with the License.\n",
              "// You may obtain a copy of the License at\n",
              "//\n",
              "//      http://www.apache.org/licenses/LICENSE-2.0\n",
              "//\n",
              "// Unless required by applicable law or agreed to in writing, software\n",
              "// distributed under the License is distributed on an \"AS IS\" BASIS,\n",
              "// WITHOUT WARRANTIES OR CONDITIONS OF ANY KIND, either express or implied.\n",
              "// See the License for the specific language governing permissions and\n",
              "// limitations under the License.\n",
              "\n",
              "/**\n",
              " * @fileoverview Helpers for google.colab Python module.\n",
              " */\n",
              "(function(scope) {\n",
              "function span(text, styleAttributes = {}) {\n",
              "  const element = document.createElement('span');\n",
              "  element.textContent = text;\n",
              "  for (const key of Object.keys(styleAttributes)) {\n",
              "    element.style[key] = styleAttributes[key];\n",
              "  }\n",
              "  return element;\n",
              "}\n",
              "\n",
              "// Max number of bytes which will be uploaded at a time.\n",
              "const MAX_PAYLOAD_SIZE = 100 * 1024;\n",
              "\n",
              "function _uploadFiles(inputId, outputId) {\n",
              "  const steps = uploadFilesStep(inputId, outputId);\n",
              "  const outputElement = document.getElementById(outputId);\n",
              "  // Cache steps on the outputElement to make it available for the next call\n",
              "  // to uploadFilesContinue from Python.\n",
              "  outputElement.steps = steps;\n",
              "\n",
              "  return _uploadFilesContinue(outputId);\n",
              "}\n",
              "\n",
              "// This is roughly an async generator (not supported in the browser yet),\n",
              "// where there are multiple asynchronous steps and the Python side is going\n",
              "// to poll for completion of each step.\n",
              "// This uses a Promise to block the python side on completion of each step,\n",
              "// then passes the result of the previous step as the input to the next step.\n",
              "function _uploadFilesContinue(outputId) {\n",
              "  const outputElement = document.getElementById(outputId);\n",
              "  const steps = outputElement.steps;\n",
              "\n",
              "  const next = steps.next(outputElement.lastPromiseValue);\n",
              "  return Promise.resolve(next.value.promise).then((value) => {\n",
              "    // Cache the last promise value to make it available to the next\n",
              "    // step of the generator.\n",
              "    outputElement.lastPromiseValue = value;\n",
              "    return next.value.response;\n",
              "  });\n",
              "}\n",
              "\n",
              "/**\n",
              " * Generator function which is called between each async step of the upload\n",
              " * process.\n",
              " * @param {string} inputId Element ID of the input file picker element.\n",
              " * @param {string} outputId Element ID of the output display.\n",
              " * @return {!Iterable<!Object>} Iterable of next steps.\n",
              " */\n",
              "function* uploadFilesStep(inputId, outputId) {\n",
              "  const inputElement = document.getElementById(inputId);\n",
              "  inputElement.disabled = false;\n",
              "\n",
              "  const outputElement = document.getElementById(outputId);\n",
              "  outputElement.innerHTML = '';\n",
              "\n",
              "  const pickedPromise = new Promise((resolve) => {\n",
              "    inputElement.addEventListener('change', (e) => {\n",
              "      resolve(e.target.files);\n",
              "    });\n",
              "  });\n",
              "\n",
              "  const cancel = document.createElement('button');\n",
              "  inputElement.parentElement.appendChild(cancel);\n",
              "  cancel.textContent = 'Cancel upload';\n",
              "  const cancelPromise = new Promise((resolve) => {\n",
              "    cancel.onclick = () => {\n",
              "      resolve(null);\n",
              "    };\n",
              "  });\n",
              "\n",
              "  // Wait for the user to pick the files.\n",
              "  const files = yield {\n",
              "    promise: Promise.race([pickedPromise, cancelPromise]),\n",
              "    response: {\n",
              "      action: 'starting',\n",
              "    }\n",
              "  };\n",
              "\n",
              "  cancel.remove();\n",
              "\n",
              "  // Disable the input element since further picks are not allowed.\n",
              "  inputElement.disabled = true;\n",
              "\n",
              "  if (!files) {\n",
              "    return {\n",
              "      response: {\n",
              "        action: 'complete',\n",
              "      }\n",
              "    };\n",
              "  }\n",
              "\n",
              "  for (const file of files) {\n",
              "    const li = document.createElement('li');\n",
              "    li.append(span(file.name, {fontWeight: 'bold'}));\n",
              "    li.append(span(\n",
              "        `(${file.type || 'n/a'}) - ${file.size} bytes, ` +\n",
              "        `last modified: ${\n",
              "            file.lastModifiedDate ? file.lastModifiedDate.toLocaleDateString() :\n",
              "                                    'n/a'} - `));\n",
              "    const percent = span('0% done');\n",
              "    li.appendChild(percent);\n",
              "\n",
              "    outputElement.appendChild(li);\n",
              "\n",
              "    const fileDataPromise = new Promise((resolve) => {\n",
              "      const reader = new FileReader();\n",
              "      reader.onload = (e) => {\n",
              "        resolve(e.target.result);\n",
              "      };\n",
              "      reader.readAsArrayBuffer(file);\n",
              "    });\n",
              "    // Wait for the data to be ready.\n",
              "    let fileData = yield {\n",
              "      promise: fileDataPromise,\n",
              "      response: {\n",
              "        action: 'continue',\n",
              "      }\n",
              "    };\n",
              "\n",
              "    // Use a chunked sending to avoid message size limits. See b/62115660.\n",
              "    let position = 0;\n",
              "    do {\n",
              "      const length = Math.min(fileData.byteLength - position, MAX_PAYLOAD_SIZE);\n",
              "      const chunk = new Uint8Array(fileData, position, length);\n",
              "      position += length;\n",
              "\n",
              "      const base64 = btoa(String.fromCharCode.apply(null, chunk));\n",
              "      yield {\n",
              "        response: {\n",
              "          action: 'append',\n",
              "          file: file.name,\n",
              "          data: base64,\n",
              "        },\n",
              "      };\n",
              "\n",
              "      let percentDone = fileData.byteLength === 0 ?\n",
              "          100 :\n",
              "          Math.round((position / fileData.byteLength) * 100);\n",
              "      percent.textContent = `${percentDone}% done`;\n",
              "\n",
              "    } while (position < fileData.byteLength);\n",
              "  }\n",
              "\n",
              "  // All done.\n",
              "  yield {\n",
              "    response: {\n",
              "      action: 'complete',\n",
              "    }\n",
              "  };\n",
              "}\n",
              "\n",
              "scope.google = scope.google || {};\n",
              "scope.google.colab = scope.google.colab || {};\n",
              "scope.google.colab._files = {\n",
              "  _uploadFiles,\n",
              "  _uploadFilesContinue,\n",
              "};\n",
              "})(self);\n",
              "</script> "
            ]
          },
          "metadata": {}
        },
        {
          "output_type": "stream",
          "name": "stdout",
          "text": [
            "Saving labels-levela.csv to labels-levela.csv\n",
            "Saving test_a_labels_all.csv to test_a_labels_all.csv\n",
            "Saving test_a_tweets_all.tsv to test_a_tweets_all.tsv\n",
            "Saving testset-levela.tsv to testset-levela.tsv\n"
          ]
        }
      ],
      "source": [
        "from google.colab import files\n",
        "\n",
        "uploaded_files = files.upload()  # This allows multiple file upload at once\n"
      ]
    },
    {
      "cell_type": "code",
      "source": [
        "!pip install transformers   # install Huggingface’s transformers library"
      ],
      "metadata": {
        "colab": {
          "base_uri": "https://localhost:8080/"
        },
        "id": "nU1oCNaRqeJq",
        "outputId": "127879d0-c43b-41f4-8130-aea0aa1b1da8"
      },
      "execution_count": 37,
      "outputs": [
        {
          "output_type": "stream",
          "name": "stdout",
          "text": [
            "Requirement already satisfied: transformers in /usr/local/lib/python3.10/dist-packages (4.35.0)\n",
            "Requirement already satisfied: filelock in /usr/local/lib/python3.10/dist-packages (from transformers) (3.13.1)\n",
            "Requirement already satisfied: huggingface-hub<1.0,>=0.16.4 in /usr/local/lib/python3.10/dist-packages (from transformers) (0.17.3)\n",
            "Requirement already satisfied: numpy>=1.17 in /usr/local/lib/python3.10/dist-packages (from transformers) (1.23.5)\n",
            "Requirement already satisfied: packaging>=20.0 in /usr/local/lib/python3.10/dist-packages (from transformers) (23.2)\n",
            "Requirement already satisfied: pyyaml>=5.1 in /usr/local/lib/python3.10/dist-packages (from transformers) (6.0.1)\n",
            "Requirement already satisfied: regex!=2019.12.17 in /usr/local/lib/python3.10/dist-packages (from transformers) (2023.6.3)\n",
            "Requirement already satisfied: requests in /usr/local/lib/python3.10/dist-packages (from transformers) (2.31.0)\n",
            "Requirement already satisfied: tokenizers<0.15,>=0.14 in /usr/local/lib/python3.10/dist-packages (from transformers) (0.14.1)\n",
            "Requirement already satisfied: safetensors>=0.3.1 in /usr/local/lib/python3.10/dist-packages (from transformers) (0.4.0)\n",
            "Requirement already satisfied: tqdm>=4.27 in /usr/local/lib/python3.10/dist-packages (from transformers) (4.66.1)\n",
            "Requirement already satisfied: fsspec in /usr/local/lib/python3.10/dist-packages (from huggingface-hub<1.0,>=0.16.4->transformers) (2023.6.0)\n",
            "Requirement already satisfied: typing-extensions>=3.7.4.3 in /usr/local/lib/python3.10/dist-packages (from huggingface-hub<1.0,>=0.16.4->transformers) (4.5.0)\n",
            "Requirement already satisfied: charset-normalizer<4,>=2 in /usr/local/lib/python3.10/dist-packages (from requests->transformers) (3.3.2)\n",
            "Requirement already satisfied: idna<4,>=2.5 in /usr/local/lib/python3.10/dist-packages (from requests->transformers) (3.4)\n",
            "Requirement already satisfied: urllib3<3,>=1.21.1 in /usr/local/lib/python3.10/dist-packages (from requests->transformers) (2.0.7)\n",
            "Requirement already satisfied: certifi>=2017.4.17 in /usr/local/lib/python3.10/dist-packages (from requests->transformers) (2023.7.22)\n"
          ]
        }
      ]
    },
    {
      "cell_type": "code",
      "source": [
        "import numpy as np\n",
        "import pandas as pd\n",
        "import torch\n",
        "import time\n",
        "import torch.nn as nn\n",
        "from sklearn.model_selection import train_test_split     #test,validation,train\n",
        "from sklearn.metrics import classification_report\n",
        "import transformers\n",
        "from transformers import AutoModel, BertTokenizerFast       # tokenizepunctuation,space, ids where word exist\n",
        "from torch.utils.data import TensorDataset, DataLoader, RandomSampler, SequentialSampler\n",
        "\n",
        "# paramters\n",
        "device = torch.device('cuda' if torch.cuda.is_available() else 'cpu')    #gpu graphic processing unit #api to access gpu is cuda"
      ],
      "metadata": {
        "id": "qy73k_CCqiY5"
      },
      "execution_count": 38,
      "outputs": []
    },
    {
      "cell_type": "code",
      "source": [
        "df_olid_labels=pd.read_csv('labels-levela.csv')\n",
        "df_solid_labels = pd.read_csv('test_a_labels_all.csv')\n",
        "df_solid_testset = pd.read_table('test_a_tweets_all.tsv')\n",
        "df_olid_testset = pd.read_table('testset-levela.tsv')\n",
        "print(df_olid_labels.columns)\n",
        "print(df_solid_labels.columns)\n",
        "print(df_solid_testset.columns)\n",
        "print(df_olid_testset.columns)#The columns in both datasets are not named properly\n",
        "df_olid_labels.columns = ['id', 'label']\n",
        "df_solid_labels.columns = ['id', 'label']\n",
        "\n",
        "#check if column names are updated\n",
        "\n",
        "print(df_olid_labels.columns)\n",
        "print(df_solid_labels.columns)\n",
        "print(df_solid_testset.columns)\n",
        "print(df_olid_testset.columns)\n"
      ],
      "metadata": {
        "colab": {
          "base_uri": "https://localhost:8080/"
        },
        "id": "vDdQtR3Vq6O2",
        "outputId": "6ff6ef01-f530-4ade-ed8f-7454173435a2"
      },
      "execution_count": 39,
      "outputs": [
        {
          "output_type": "stream",
          "name": "stdout",
          "text": [
            "Index(['15923', 'OFF'], dtype='object')\n",
            "Index(['BC0', 'OFF'], dtype='object')\n",
            "Index(['id', 'tweet'], dtype='object')\n",
            "Index(['id', 'tweet'], dtype='object')\n",
            "Index(['id', 'label'], dtype='object')\n",
            "Index(['id', 'label'], dtype='object')\n",
            "Index(['id', 'tweet'], dtype='object')\n",
            "Index(['id', 'tweet'], dtype='object')\n"
          ]
        }
      ]
    },
    {
      "cell_type": "code",
      "source": [
        "print(df_olid_labels['id'].isin(df_olid_testset['id']).value_counts())\n",
        "print(df_solid_labels['id'].isin(df_solid_testset['id']).value_counts())\n"
      ],
      "metadata": {
        "colab": {
          "base_uri": "https://localhost:8080/"
        },
        "id": "ApIOmMTQ7EvM",
        "outputId": "f67985f9-d6f8-4933-cf69-b1b09acbfaa5"
      },
      "execution_count": 40,
      "outputs": [
        {
          "output_type": "stream",
          "name": "stdout",
          "text": [
            "True    859\n",
            "Name: id, dtype: int64\n",
            "True    5992\n",
            "Name: id, dtype: int64\n"
          ]
        }
      ]
    },
    {
      "cell_type": "markdown",
      "source": [
        "**Data Preprocessing: **\n",
        "This function lowercases the text, removes mentions and URLs, and removes special characters and numbers. You might need to modify this function based on our specific requirements. For example, if emojis or certain special characters are important for your task, you might want to keep them."
      ],
      "metadata": {
        "id": "aGEnf5gItD-D"
      }
    },
    {
      "cell_type": "code",
      "source": [
        "def preprocess_text(text):\n",
        "    if isinstance(text, str):  # Check if the input is a string\n",
        "        # Lowercase the text\n",
        "        text = text.lower()\n",
        "\n",
        "        # Remove mentions\n",
        "        text = re.sub(r'@[\\w]*', '', text)\n",
        "\n",
        "        # Remove URLs\n",
        "        text = re.sub(r'http[s]?://(?:[a-zA-Z]|[0-9]|[$-_@.&+]|[!*\\\\(\\\\),]|(?:%[0-9a-fA-F][0-9a-fA-F]))+', '', text)\n",
        "\n",
        "        # Remove special characters and numbers\n",
        "        text = re.sub(r'[^a-zA-Z\\s]', '', text)\n",
        "        text = re.sub(r'[0-9]', '', text)\n",
        "    else:\n",
        "        text = ''  # If the input is not a string, return an empty string (or handle it in a way that suits your needs)\n",
        "    return text\n"
      ],
      "metadata": {
        "id": "doXoDpEPswgW"
      },
      "execution_count": 42,
      "outputs": []
    },
    {
      "cell_type": "markdown",
      "source": [
        "**Preparing Data For Bert Model:**\n",
        "This will tokenize the tweets and add the special [CLS] and [SEP] tokens required by BERT. It also encodes the labels into a format that can be understood by our model (i.e., 0 and 1 for binary classification tasks)."
      ],
      "metadata": {
        "id": "s1Sp4eNwtso3"
      }
    },
    {
      "cell_type": "code",
      "source": [
        "import re\n",
        "from transformers import BertTokenizer\n",
        "from sklearn.preprocessing import LabelEncoder\n",
        "\n",
        "\n",
        "# Load the BERT tokenizer\n",
        "tokenizer = BertTokenizer.from_pretrained('bert-base-uncased', do_lower_case=True)\n",
        "\n",
        "# Preprocess the tweets\n",
        "df_olid_testset['tweet'] = df_olid_testset['tweet'].apply(preprocess_text)\n",
        "df_solid_testset['tweet'] = df_solid_testset['tweet'].apply(preprocess_text)\n",
        "\n",
        "# Tokenize the tweets\n",
        "df_olid_testset['tweet'] = df_olid_testset['tweet'].apply(lambda x: tokenizer.encode(x, add_special_tokens=True))\n",
        "df_solid_testset['tweet'] = df_solid_testset['tweet'].apply(lambda x: tokenizer.encode(x, add_special_tokens=True))\n",
        "\n",
        "# Encode the labels\n",
        "le = LabelEncoder()\n",
        "df_olid_labels['label'] = le.fit_transform(df_olid_labels['label'])\n",
        "df_solid_labels['label'] = le.fit_transform(df_solid_labels['label'])"
      ],
      "metadata": {
        "id": "DIDKdZ4DtbBb"
      },
      "execution_count": 43,
      "outputs": []
    },
    {
      "cell_type": "markdown",
      "source": [
        "**Splitting the Dataset:** This will create a training set and a validation set for both the OLID and SOLID datasets. The validation set is typically a smaller portion of the dataset that is used to evaluate the model during training."
      ],
      "metadata": {
        "id": "fcugWkNHuTOh"
      }
    },
    {
      "cell_type": "code",
      "source": [
        "# Merge the tweets and labels based on 'id'\n",
        "df_olid = pd.merge(df_olid_testset, df_olid_labels, on='id')\n",
        "df_solid = pd.merge(df_solid_testset, df_solid_labels, on='id')\n",
        "\n",
        "# Split the OLID dataset\n",
        "train_inputs_olid, validation_inputs_olid, train_labels_olid, validation_labels_olid = train_test_split(df_olid['tweet'].tolist(), df_olid['label'].tolist(), test_size=0.1, random_state=42)\n",
        "\n",
        "# Split the SOLID dataset\n",
        "train_inputs_solid, validation_inputs_solid, train_labels_solid, validation_labels_solid = train_test_split(df_solid['tweet'].tolist(), df_solid['label'].tolist(), test_size=0.1, random_state=42)\n"
      ],
      "metadata": {
        "id": "2052RIyZtrqK"
      },
      "execution_count": 44,
      "outputs": []
    },
    {
      "cell_type": "code",
      "source": [
        "# For training inputs\n",
        "train_masks_olid = [[float(i != 0.0) for i in ii] for ii in train_inputs_olid]\n",
        "train_masks_solid = [[float(i != 0.0) for i in ii] for ii in train_inputs_solid]\n",
        "\n",
        "# For validation inputs\n",
        "validation_masks_olid = [[float(i != 0.0) for i in ii] for ii in validation_inputs_olid]\n",
        "validation_masks_solid = [[float(i != 0.0) for i in ii] for ii in validation_inputs_solid]\n"
      ],
      "metadata": {
        "id": "_pim-PZ5fAjW"
      },
      "execution_count": 45,
      "outputs": []
    },
    {
      "cell_type": "markdown",
      "source": [
        "Define Max length of sentences in dataset."
      ],
      "metadata": {
        "id": "4t_15uBNvq-G"
      }
    },
    {
      "cell_type": "code",
      "source": [
        "from keras.preprocessing.sequence import pad_sequences\n",
        "\n",
        "# Define a maximum length for your sequences\n",
        "MAX_LEN = 64\n",
        "\n",
        "# Pad the sequences\n",
        "train_inputs_olid = pad_sequences(train_inputs_olid, maxlen=MAX_LEN, dtype=\"long\", truncating=\"post\", padding=\"post\")\n",
        "validation_inputs_olid = pad_sequences(validation_inputs_olid, maxlen=MAX_LEN, dtype=\"long\", truncating=\"post\", padding=\"post\")\n",
        "\n",
        "train_inputs_solid = pad_sequences(train_inputs_solid, maxlen=MAX_LEN, dtype=\"long\", truncating=\"post\", padding=\"post\")\n",
        "validation_inputs_solid = pad_sequences(validation_inputs_solid, maxlen=MAX_LEN, dtype=\"long\", truncating=\"post\", padding=\"post\")\n"
      ],
      "metadata": {
        "id": "KNRfZN54vR3C"
      },
      "execution_count": 46,
      "outputs": []
    },
    {
      "cell_type": "markdown",
      "source": [
        "**Create PyTorch DataLoaders:** These are used to efficiently load our data in batches during training."
      ],
      "metadata": {
        "id": "QSg0boQau2uK"
      }
    },
    {
      "cell_type": "code",
      "source": [
        "from torch.utils.data import TensorDataset, DataLoader, RandomSampler, SequentialSampler\n",
        "import torch\n",
        "\n",
        "# Convert data into torch tensors\n",
        "train_inputs_olid = torch.tensor(train_inputs_olid)\n",
        "validation_inputs_olid = torch.tensor(validation_inputs_olid)\n",
        "train_labels_olid = torch.tensor(train_labels_olid)\n",
        "validation_labels_olid = torch.tensor(validation_labels_olid)\n",
        "\n",
        "train_inputs_solid = torch.tensor(train_inputs_solid)\n",
        "validation_inputs_solid = torch.tensor(validation_inputs_solid)\n",
        "train_labels_solid = torch.tensor(train_labels_solid)\n",
        "validation_labels_solid = torch.tensor(validation_labels_solid)\n",
        "\n",
        "# Create DataLoader for training data\n",
        "train_data_olid = TensorDataset(train_inputs_olid, train_labels_olid)\n",
        "train_sampler_olid = RandomSampler(train_data_olid)\n",
        "train_dataloader_olid = DataLoader(train_data_olid, sampler=train_sampler_olid, batch_size=32)\n",
        "\n",
        "train_data_solid = TensorDataset(train_inputs_solid, train_labels_solid)\n",
        "train_sampler_solid = RandomSampler(train_data_solid)\n",
        "train_dataloader_solid = DataLoader(train_data_solid, sampler=train_sampler_solid, batch_size=32)\n",
        "\n",
        "# Create DataLoader for validation data\n",
        "validation_data_olid = TensorDataset(validation_inputs_olid, validation_labels_olid)\n",
        "validation_sampler_olid = SequentialSampler(validation_data_olid)\n",
        "validation_dataloader_olid = DataLoader(validation_data_olid, sampler=validation_sampler_olid, batch_size=32)\n",
        "\n",
        "validation_data_solid = TensorDataset(validation_inputs_solid, validation_labels_solid)\n",
        "validation_sampler_solid = SequentialSampler(validation_data_solid)\n",
        "validation_dataloader_solid = DataLoader(validation_data_solid, sampler=validation_sampler_solid, batch_size=32)\n"
      ],
      "metadata": {
        "id": "fMTgfoMRu8Dg"
      },
      "execution_count": 47,
      "outputs": []
    },
    {
      "cell_type": "markdown",
      "source": [
        "**Setup Model Optimizer**"
      ],
      "metadata": {
        "id": "bL0-0ZC2vjVq"
      }
    },
    {
      "cell_type": "code",
      "source": [
        "from transformers import BertForSequenceClassification, AdamW\n",
        "\n",
        "# Load the BERT model\n",
        "model = BertForSequenceClassification.from_pretrained(\n",
        "    \"bert-base-uncased\", # Use the base BERT model\n",
        "    num_labels = 2, # The number of output labels--2 for binary classification\n",
        "    output_attentions = False, # Whether the model returns attentions weights.\n",
        "    output_hidden_states = False, # Whether the model returns all hidden-states.\n",
        ")\n",
        "\n",
        "# Tell pytorch to run this model on the GPU\n",
        "model.cuda()\n",
        "\n",
        "# Set up the optimizer\n",
        "optimizer = AdamW(model.parameters(),\n",
        "                  lr = 2e-5,  # Learning Rate - Default is 5e-5\n",
        "                  eps = 1e-8 # Adam Epsilon  - Default is 1e-8.\n",
        "                )\n"
      ],
      "metadata": {
        "colab": {
          "base_uri": "https://localhost:8080/"
        },
        "id": "WqSm6isFv4WR",
        "outputId": "2d4029b3-3385-45f8-8188-cad9cc7825c7"
      },
      "execution_count": 48,
      "outputs": [
        {
          "output_type": "stream",
          "name": "stderr",
          "text": [
            "Some weights of BertForSequenceClassification were not initialized from the model checkpoint at bert-base-uncased and are newly initialized: ['classifier.weight', 'classifier.bias']\n",
            "You should probably TRAIN this model on a down-stream task to be able to use it for predictions and inference.\n",
            "/usr/local/lib/python3.10/dist-packages/transformers/optimization.py:411: FutureWarning: This implementation of AdamW is deprecated and will be removed in a future version. Use the PyTorch implementation torch.optim.AdamW instead, or set `no_deprecation_warning=True` to disable this warning\n",
            "  warnings.warn(\n"
          ]
        }
      ]
    },
    {
      "cell_type": "markdown",
      "source": [
        "**Define Training Loop** train  model for 4 epochs. It calculates the training loss for each epoch and prints the validation accuracy after each epoch. You can adjust the number of epochs based on your requirements."
      ],
      "metadata": {
        "id": "A8_kABFhwTq8"
      }
    },
    {
      "cell_type": "code",
      "source": [
        "from transformers import get_linear_schedule_with_warmup\n",
        "\n",
        "# Define the training parameters\n",
        "epochs = 8\n",
        "total_steps = len(train_dataloader_olid) * epochs\n",
        "\n",
        "# Create the learning rate scheduler\n",
        "scheduler = get_linear_schedule_with_warmup(optimizer,\n",
        "                                            num_warmup_steps = 0, # Default value in run_glue.py\n",
        "                                            num_training_steps = total_steps)\n",
        "\n",
        "# Initialize lists to store the loss values for each epoch\n",
        "train_losses = []\n",
        "valid_losses = []\n",
        "\n",
        "# For each epoch...\n",
        "for epoch_i in range(0, epochs):\n",
        "    # Training\n",
        "    total_loss = 0\n",
        "    model.train()\n",
        "    for step, batch in enumerate(train_dataloader_olid):\n",
        "        b_input_ids = batch[0].to(device)\n",
        "        b_labels = batch[1].to(device)\n",
        "        model.zero_grad()\n",
        "        outputs = model(b_input_ids, token_type_ids=None, labels=b_labels)\n",
        "        loss = outputs[0]\n",
        "\n",
        "        # L1 regularization\n",
        "        l1_lambda = 0.0001\n",
        "        l1_norm = sum(p.abs().sum() for p in model.parameters())\n",
        "        loss += l1_lambda * l1_norm\n",
        "\n",
        "        # L2 regularization\n",
        "        l2_lambda = 0.0001\n",
        "        l2_norm = sum(p.pow(2.0).sum() for p in model.parameters())\n",
        "        loss += l2_lambda * l2_norm\n",
        "\n",
        "        total_loss += loss.item()\n",
        "        loss.backward()\n",
        "        torch.nn.utils.clip_grad_norm_(model.parameters(), 1.0)\n",
        "        optimizer.step()\n",
        "        scheduler.step()\n",
        "\n",
        "    avg_train_loss = total_loss / len(train_dataloader_olid)\n",
        "    train_losses.append(avg_train_loss)\n",
        "    print(f\"Average training loss: {avg_train_loss:.3f}\")\n",
        "\n",
        "    # Validation\n",
        "    model.eval()\n",
        "    eval_loss, eval_accuracy = 0, 0\n",
        "    nb_eval_steps = 0\n",
        "    for batch in validation_dataloader_olid:\n",
        "        batch = tuple(t.to(device) for t in batch)\n",
        "        b_input_ids, b_labels = batch\n",
        "        with torch.no_grad():\n",
        "            outputs = model(b_input_ids, token_type_ids=None, labels=b_labels)\n",
        "        loss, logits = outputs[:2]  # Unpack the outputs to get the loss and logits separately\n",
        "        eval_loss += loss.item()  # Use the loss instead of logits\n",
        "        logits = logits.detach().cpu().numpy()\n",
        "        label_ids = b_labels.to('cpu').numpy()\n",
        "        tmp_eval_accuracy = flat_accuracy(logits, label_ids)\n",
        "        eval_accuracy += tmp_eval_accuracy\n",
        "        nb_eval_steps += 1\n",
        "\n",
        "    avg_valid_loss = eval_loss / len(validation_dataloader_olid)\n",
        "    valid_losses.append(avg_valid_loss)\n",
        "    print(f\"Validation Accuracy: {eval_accuracy/nb_eval_steps:.2f}\")\n",
        "    print(f\"Validation Loss: {avg_valid_loss:.3f}\")\n"
      ],
      "metadata": {
        "colab": {
          "base_uri": "https://localhost:8080/"
        },
        "id": "cqqxJ56AgnKF",
        "outputId": "a84bdfb2-2981-4fe4-9d2f-86d5a01ded62"
      },
      "execution_count": 49,
      "outputs": [
        {
          "output_type": "stream",
          "name": "stdout",
          "text": [
            "Average training loss: 375.853\n",
            "Validation Accuracy: 0.80\n",
            "Validation Loss: 0.516\n",
            "Average training loss: 371.649\n",
            "Validation Accuracy: 0.80\n",
            "Validation Loss: 0.565\n",
            "Average training loss: 368.318\n",
            "Validation Accuracy: 0.80\n",
            "Validation Loss: 0.514\n",
            "Average training loss: 365.213\n",
            "Validation Accuracy: 0.80\n",
            "Validation Loss: 0.512\n",
            "Average training loss: 362.599\n",
            "Validation Accuracy: 0.80\n",
            "Validation Loss: 0.514\n",
            "Average training loss: 360.742\n",
            "Validation Accuracy: 0.80\n",
            "Validation Loss: 0.501\n",
            "Average training loss: 359.447\n",
            "Validation Accuracy: 0.80\n",
            "Validation Loss: 0.501\n",
            "Average training loss: 358.840\n",
            "Validation Accuracy: 0.80\n",
            "Validation Loss: 0.500\n"
          ]
        }
      ]
    },
    {
      "cell_type": "code",
      "source": [
        "# Define a helper function for calculating accuracy\n",
        "def flat_accuracy(preds, labels):\n",
        "    pred_flat = np.argmax(preds, axis=1).flatten() if preds.ndim > 1 else preds.flatten()\n",
        "    labels_flat = labels.flatten()\n",
        "    return np.sum(pred_flat == labels_flat) / len(labels_flat)\n",
        "\n",
        "# Number of training epochs\n",
        "epochs = 8\n",
        "\n",
        "# For each epoch...\n",
        "for epoch_i in range(0, epochs):\n",
        "    # Training\n",
        "    total_loss = 0\n",
        "    model.train()\n",
        "    for step, batch in enumerate(train_dataloader_olid):\n",
        "        b_input_ids = batch[0].to(device)\n",
        "        b_labels = batch[1].to(device)\n",
        "        model.zero_grad()\n",
        "        outputs = model(b_input_ids, token_type_ids=None, labels=b_labels)\n",
        "        loss = outputs[0]\n",
        "        total_loss += loss.item()\n",
        "        loss.backward()\n",
        "        torch.nn.utils.clip_grad_norm_(model.parameters(), 1.0)\n",
        "        optimizer.step()\n",
        "        scheduler.step()\n",
        "\n",
        "    avg_train_loss = total_loss / len(train_dataloader_olid)\n",
        "    print(f\"Average training loss: {avg_train_loss:.3f}\")\n",
        "\n",
        "    # Validation\n",
        "    model.eval()\n",
        "    eval_loss, eval_accuracy = 0, 0\n",
        "    nb_eval_steps = 0\n",
        "    for batch in validation_dataloader_olid:\n",
        "          batch = tuple(t.to(device) for t in batch)\n",
        "          b_input_ids, b_labels = batch\n",
        "          with torch.no_grad():\n",
        "            outputs = model(b_input_ids, token_type_ids=None, labels=b_labels)  # Include labels to get the loss in the outputs\n",
        "          loss, logits = outputs[:2]  # Unpack the outputs to get the loss and logits separately\n",
        "          eval_loss += loss.item()  # Use the loss instead of logits\n",
        "          logits = logits.detach().cpu().numpy()\n",
        "          label_ids = b_labels.to('cpu').numpy()\n",
        "          tmp_eval_accuracy = flat_accuracy(logits, label_ids)\n",
        "          eval_accuracy += tmp_eval_accuracy\n",
        "          nb_eval_steps += 1\n",
        "\n",
        "\n",
        "    avg_valid_loss = eval_loss / len(validation_dataloader_olid)\n",
        "    print(f\"Validation Accuracy: {eval_accuracy/nb_eval_steps:.2f}\")\n",
        "    print(f\"Validation Loss: {avg_valid_loss:.3f}\")\n"
      ],
      "metadata": {
        "colab": {
          "base_uri": "https://localhost:8080/"
        },
        "id": "ewioWmNLYa7-",
        "outputId": "0634926f-d3db-4a19-c414-68683dcb3ea5"
      },
      "execution_count": 50,
      "outputs": [
        {
          "output_type": "stream",
          "name": "stdout",
          "text": [
            "Average training loss: 0.536\n",
            "Validation Accuracy: 0.80\n",
            "Validation Loss: 0.500\n",
            "Average training loss: 0.565\n",
            "Validation Accuracy: 0.80\n",
            "Validation Loss: 0.500\n",
            "Average training loss: 0.546\n",
            "Validation Accuracy: 0.80\n",
            "Validation Loss: 0.500\n",
            "Average training loss: 0.553\n",
            "Validation Accuracy: 0.80\n",
            "Validation Loss: 0.500\n",
            "Average training loss: 0.551\n",
            "Validation Accuracy: 0.80\n",
            "Validation Loss: 0.500\n",
            "Average training loss: 0.549\n",
            "Validation Accuracy: 0.80\n",
            "Validation Loss: 0.500\n",
            "Average training loss: 0.549\n",
            "Validation Accuracy: 0.80\n",
            "Validation Loss: 0.500\n",
            "Average training loss: 0.555\n",
            "Validation Accuracy: 0.80\n",
            "Validation Loss: 0.500\n"
          ]
        }
      ]
    },
    {
      "cell_type": "markdown",
      "source": [
        "**Final Evaluation of Model.**"
      ],
      "metadata": {
        "id": "-LlF4XNyLBGU"
      }
    },
    {
      "cell_type": "code",
      "source": [
        "# Number of training epochs\n",
        "epochs = 6\n",
        "\n",
        "# Dataloaders for both datasets\n",
        "dataloaders = [(train_dataloader_olid, validation_dataloader_olid), (train_dataloader_solid, validation_dataloader_solid)]\n",
        "\n",
        "# For each dataset...\n",
        "for train_dataloader, validation_dataloader in dataloaders:\n",
        "    # For each epoch...\n",
        "    for epoch_i in range(0, epochs):\n",
        "        # Training\n",
        "        total_loss = 0\n",
        "        model.train()\n",
        "        for step, batch in enumerate(train_dataloader):\n",
        "            b_input_ids = batch[0].to(device)\n",
        "            b_labels = batch[1].to(device)\n",
        "            model.zero_grad()\n",
        "            outputs = model(b_input_ids, token_type_ids=None, labels=b_labels)\n",
        "            loss = outputs[0]\n",
        "            total_loss += loss.item()\n",
        "            loss.backward()\n",
        "            torch.nn.utils.clip_grad_norm_(model.parameters(), 1.0)\n",
        "            optimizer.step()\n",
        "            scheduler.step()\n",
        "\n",
        "        avg_train_loss = total_loss / len(train_dataloader)\n",
        "        print(f\"Average training loss: {avg_train_loss:.3f}\")\n",
        "\n",
        "        # Validation\n",
        "        model.eval()\n",
        "        eval_loss, eval_accuracy = 0, 0\n",
        "        nb_eval_steps = 0\n",
        "        for batch in validation_dataloader:\n",
        "            batch = tuple(t.to(device) for t in batch)\n",
        "            b_input_ids, b_labels = batch\n",
        "            with torch.no_grad():\n",
        "                outputs = model(b_input_ids, token_type_ids=None, labels=b_labels)\n",
        "            loss, logits = outputs[:2]\n",
        "            eval_loss += loss.item()\n",
        "            logits = logits.detach().cpu().numpy()\n",
        "            label_ids = b_labels.to('cpu').numpy()\n",
        "            tmp_eval_accuracy = flat_accuracy(logits, label_ids)\n",
        "            eval_accuracy += tmp_eval_accuracy\n",
        "            nb_eval_steps += 1\n",
        "\n",
        "        avg_valid_loss = eval_loss / len(validation_dataloader)\n",
        "        print(f\"Validation Accuracy: {eval_accuracy/nb_eval_steps:.2f}\")\n",
        "        print(f\"Validation Loss: {avg_valid_loss:.3f}\")\n"
      ],
      "metadata": {
        "colab": {
          "base_uri": "https://localhost:8080/"
        },
        "id": "_O4lhCO0J4HP",
        "outputId": "80f01ffe-4cc0-4005-a3c2-914eb9a85d8d"
      },
      "execution_count": null,
      "outputs": [
        {
          "output_type": "stream",
          "name": "stdout",
          "text": [
            "Average training loss: 0.560\n",
            "Validation Accuracy: 0.80\n",
            "Validation Loss: 0.500\n",
            "Average training loss: 0.546\n",
            "Validation Accuracy: 0.80\n",
            "Validation Loss: 0.500\n",
            "Average training loss: 0.548\n",
            "Validation Accuracy: 0.80\n",
            "Validation Loss: 0.500\n",
            "Average training loss: 0.550\n",
            "Validation Accuracy: 0.80\n",
            "Validation Loss: 0.500\n",
            "Average training loss: 0.552\n",
            "Validation Accuracy: 0.80\n",
            "Validation Loss: 0.500\n",
            "Average training loss: 0.550\n",
            "Validation Accuracy: 0.80\n",
            "Validation Loss: 0.500\n",
            "Average training loss: 0.561\n",
            "Validation Accuracy: 0.80\n",
            "Validation Loss: 0.500\n",
            "Average training loss: 0.553\n",
            "Validation Accuracy: 0.80\n",
            "Validation Loss: 0.500\n",
            "Average training loss: 0.704\n",
            "Validation Accuracy: 0.50\n",
            "Validation Loss: 0.710\n",
            "Average training loss: 0.705\n",
            "Validation Accuracy: 0.50\n",
            "Validation Loss: 0.710\n",
            "Average training loss: 0.702\n",
            "Validation Accuracy: 0.50\n",
            "Validation Loss: 0.710\n"
          ]
        }
      ]
    },
    {
      "cell_type": "code",
      "source": [],
      "metadata": {
        "id": "HoLpCnkFN6tX"
      },
      "execution_count": null,
      "outputs": []
    }
  ]
}